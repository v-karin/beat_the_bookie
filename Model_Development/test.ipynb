{
 "cells": [
  {
   "cell_type": "code",
   "execution_count": 1,
   "metadata": {},
   "outputs": [],
   "source": [
    "import os\n",
    "import bookieNN"
   ]
  },
  {
   "cell_type": "code",
   "execution_count": 2,
   "metadata": {},
   "outputs": [
    {
     "name": "stdout",
     "output_type": "stream",
     "text": [
      "out index: 3 tensor: torch.Size([8840, 4])\n",
      "inputs: tensor([[ 9.6664e+08,  2.6905e+18, -2.2293e+18],\n",
      "        [ 9.6664e+08, -8.2216e+17,  1.9143e+18],\n",
      "        [ 9.6664e+08,  2.1603e+18, -3.8694e+18]]) torch.Size([8840, 3])\n",
      "inputs: tensor([[-1.],\n",
      "        [-1.],\n",
      "        [ 1.]]) torch.Size([8840, 1])\n"
     ]
    },
    {
     "name": "stderr",
     "output_type": "stream",
     "text": [
      "c:\\Users\\vladk\\Documents\\GitHub Projects\\beat_the_bookie\\Model_Development\\bookieNN\\loader.py:41: SettingWithCopyWarning: \n",
      "A value is trying to be set on a copy of a slice from a DataFrame.\n",
      "Try using .loc[row_indexer,col_indexer] = value instead\n",
      "\n",
      "See the caveats in the documentation: https://pandas.pydata.org/pandas-docs/stable/user_guide/indexing.html#returning-a-view-versus-a-copy\n",
      "  data.loc[:, feat[0]] = column.map(convert_formats[feat[1]])\n",
      "c:\\Users\\vladk\\Documents\\GitHub Projects\\beat_the_bookie\\Model_Development\\bookieNN\\loader.py:41: SettingWithCopyWarning: \n",
      "A value is trying to be set on a copy of a slice from a DataFrame.\n",
      "Try using .loc[row_indexer,col_indexer] = value instead\n",
      "\n",
      "See the caveats in the documentation: https://pandas.pydata.org/pandas-docs/stable/user_guide/indexing.html#returning-a-view-versus-a-copy\n",
      "  data.loc[:, feat[0]] = column.map(convert_formats[feat[1]])\n"
     ]
    }
   ],
   "source": [
    "features = [\n",
    "    [\"Date\", 2],\n",
    "    [\"HomeTeam\", 1],\n",
    "    [\"AwayTeam\", 1],\n",
    "    [\"FTR\", 3]\n",
    "]\n",
    "\n",
    "filepath = os.path.join(os.path.curdir, \"Data_Files 2023\", \"epl-training.csv\")\n",
    "\n",
    "inputs, outputs = bookieNN.loader.open_dataset(filepath, features, \"FTR\")"
   ]
  },
  {
   "cell_type": "code",
   "execution_count": 3,
   "metadata": {},
   "outputs": [
    {
     "name": "stdout",
     "output_type": "stream",
     "text": [
      "torch.Size([8840, 3]) torch.Size([8840, 1])\n"
     ]
    }
   ],
   "source": [
    "print(inputs.shape, outputs.shape)\n",
    "data_loader = bookieNN.loader.new_loader(inputs, outputs, 32)"
   ]
  },
  {
   "cell_type": "code",
   "execution_count": 4,
   "metadata": {},
   "outputs": [
    {
     "name": "stdout",
     "output_type": "stream",
     "text": [
      "\n",
      "Epoch: 0\n",
      "Loss: tensor(2.2500, grad_fn=<MseLossBackward0>)\n",
      "\n",
      "Epoch: 1\n",
      "Loss: tensor(2.2500, grad_fn=<MseLossBackward0>)\n",
      "\n",
      "Epoch: 2\n",
      "Loss: tensor(2.2500, grad_fn=<MseLossBackward0>)\n",
      "\n",
      "Epoch: 3\n",
      "Loss: tensor(2.2500, grad_fn=<MseLossBackward0>)\n",
      "\n",
      "Epoch: 4\n",
      "Loss: tensor(2.2500, grad_fn=<MseLossBackward0>)\n",
      "\n",
      "Epoch: 5\n",
      "Loss: tensor(2.2500, grad_fn=<MseLossBackward0>)\n",
      "\n",
      "Epoch: 6\n",
      "Loss: tensor(2.2500, grad_fn=<MseLossBackward0>)\n",
      "\n",
      "Epoch: 7\n",
      "Loss: tensor(2.2500, grad_fn=<MseLossBackward0>)\n",
      "\n",
      "Epoch: 8\n",
      "Loss: tensor(2.2500, grad_fn=<MseLossBackward0>)\n",
      "\n",
      "Epoch: 9\n",
      "Loss: tensor(2.2500, grad_fn=<MseLossBackward0>)\n",
      "\n",
      "Epoch: 10\n",
      "Loss: tensor(2.2500, grad_fn=<MseLossBackward0>)\n",
      "\n",
      "Epoch: 11\n",
      "Loss: tensor(2.2500, grad_fn=<MseLossBackward0>)\n",
      "\n",
      "Epoch: 12\n",
      "Loss: tensor(2.2500, grad_fn=<MseLossBackward0>)\n",
      "\n",
      "Epoch: 13\n",
      "Loss: tensor(2.2500, grad_fn=<MseLossBackward0>)\n",
      "\n",
      "Epoch: 14\n",
      "Loss: tensor(2.2500, grad_fn=<MseLossBackward0>)\n",
      "\n",
      "Epoch: 15\n",
      "Loss: tensor(2.2500, grad_fn=<MseLossBackward0>)\n",
      "\n",
      "Epoch: 16\n",
      "Loss: tensor(2.2500, grad_fn=<MseLossBackward0>)\n",
      "\n",
      "Epoch: 17\n",
      "Loss: tensor(2.2500, grad_fn=<MseLossBackward0>)\n",
      "\n",
      "Epoch: 18\n",
      "Loss: tensor(2.2500, grad_fn=<MseLossBackward0>)\n",
      "\n",
      "Epoch: 19\n",
      "Loss: tensor(2.2500, grad_fn=<MseLossBackward0>)\n",
      "\n",
      "Epoch: 20\n",
      "Loss: tensor(2.2500, grad_fn=<MseLossBackward0>)\n",
      "\n",
      "Epoch: 21\n",
      "Loss: tensor(2.2500, grad_fn=<MseLossBackward0>)\n",
      "\n",
      "Epoch: 22\n",
      "Loss: tensor(2.2500, grad_fn=<MseLossBackward0>)\n",
      "\n",
      "Epoch: 23\n",
      "Loss: tensor(2.2500, grad_fn=<MseLossBackward0>)\n",
      "\n",
      "Epoch: 24\n",
      "Loss: tensor(2.2500, grad_fn=<MseLossBackward0>)\n",
      "\n",
      "Epoch: 25\n",
      "Loss: tensor(2.2500, grad_fn=<MseLossBackward0>)\n",
      "\n",
      "Epoch: 26\n",
      "Loss: tensor(2.2500, grad_fn=<MseLossBackward0>)\n",
      "\n",
      "Epoch: 27\n",
      "Loss: tensor(2.2500, grad_fn=<MseLossBackward0>)\n",
      "\n",
      "Epoch: 28\n",
      "Loss: tensor(2.2500, grad_fn=<MseLossBackward0>)\n",
      "\n",
      "Epoch: 29\n",
      "Loss: tensor(2.2500, grad_fn=<MseLossBackward0>)\n",
      "\n",
      "Epoch: 30\n",
      "Loss: tensor(2.2500, grad_fn=<MseLossBackward0>)\n",
      "\n",
      "Epoch: 31\n",
      "Loss: tensor(2.2500, grad_fn=<MseLossBackward0>)\n",
      "\n",
      "Epoch: 32\n",
      "Loss: tensor(2.2500, grad_fn=<MseLossBackward0>)\n",
      "\n",
      "Epoch: 33\n",
      "Loss: tensor(2.2500, grad_fn=<MseLossBackward0>)\n",
      "\n",
      "Epoch: 34\n",
      "Loss: tensor(2.2500, grad_fn=<MseLossBackward0>)\n",
      "\n",
      "Epoch: 35\n",
      "Loss: tensor(2.2500, grad_fn=<MseLossBackward0>)\n",
      "\n",
      "Epoch: 36\n",
      "Loss: tensor(2.2500, grad_fn=<MseLossBackward0>)\n",
      "\n",
      "Epoch: 37\n",
      "Loss: tensor(2.2500, grad_fn=<MseLossBackward0>)\n",
      "\n",
      "Epoch: 38\n",
      "Loss: tensor(2.2500, grad_fn=<MseLossBackward0>)\n",
      "\n",
      "Epoch: 39\n",
      "Loss: tensor(2.2500, grad_fn=<MseLossBackward0>)\n"
     ]
    }
   ],
   "source": [
    "model = bookieNN.model.BookieModel(inputs.shape[1], 1)\n",
    "loss = bookieNN.model.train_model(model, data_loader, 40, 0.1)"
   ]
  }
 ],
 "metadata": {
  "kernelspec": {
   "display_name": "Python 3",
   "language": "python",
   "name": "python3"
  },
  "language_info": {
   "codemirror_mode": {
    "name": "ipython",
    "version": 3
   },
   "file_extension": ".py",
   "mimetype": "text/x-python",
   "name": "python",
   "nbconvert_exporter": "python",
   "pygments_lexer": "ipython3",
   "version": "3.10.8"
  }
 },
 "nbformat": 4,
 "nbformat_minor": 2
}
